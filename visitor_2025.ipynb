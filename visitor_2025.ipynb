{
 "cells": [
  {
   "cell_type": "code",
   "execution_count": 69,
   "id": "9daf43b3",
   "metadata": {},
   "outputs": [],
   "source": [
    "import pandas as pd\n",
    "import math"
   ]
  },
  {
   "cell_type": "code",
   "execution_count": 70,
   "id": "3332283f",
   "metadata": {},
   "outputs": [],
   "source": [
    "visit_data = pd.read_excel(\"./info/2025 Allianz Datathon Dataset.xlsx\", sheet_name=\"Visitation Data\")\n"
   ]
  },
  {
   "cell_type": "code",
   "execution_count": 71,
   "id": "fb45efff",
   "metadata": {},
   "outputs": [],
   "source": [
    "sydney_resorts = [\"Selwyn\", \"Thredbo\", \"Perisher\", \"Charlotte Pass\"]"
   ]
  },
  {
   "cell_type": "code",
   "execution_count": 72,
   "id": "855bc859",
   "metadata": {},
   "outputs": [
    {
     "data": {
      "text/plain": [
       "Selwyn             76089.0\n",
       "Thredbo           414217.0\n",
       "Perisher          545276.0\n",
       "Charlotte Pass     30010.0\n",
       "dtype: float64"
      ]
     },
     "execution_count": 72,
     "metadata": {},
     "output_type": "execute_result"
    }
   ],
   "source": [
    "sydney_2024 = visit_data[visit_data[\"Year\"] == 2024][sydney_resorts]\n",
    "sydney_totals = sydney_2024.sum()\n",
    "sydney_totals"
   ]
  },
  {
   "cell_type": "code",
   "execution_count": 73,
   "id": "5a08ea06",
   "metadata": {},
   "outputs": [
    {
     "name": "stderr",
     "output_type": "stream",
     "text": [
      "C:\\Users\\richa\\AppData\\Local\\Temp/ipykernel_24164/2458487939.py:2: UserWarning: Boolean Series key will be reindexed to match DataFrame index.\n",
      "  vic_filtered = vic_data[((visit_data[\"Year\"] == 2024) & (visit_data[\"Week\"].isin([13,14,15]))) |\n"
     ]
    }
   ],
   "source": [
    "vic_data = visit_data[(visit_data[\"Year\"] == 2024) | (visit_data[\"Year\"] == 2025)][[\"Year\",\"Week\",\"Mt. Baw Baw\", \"Mt. Stirling\", \"Mt. Hotham\", \"Falls Creek\", \"Mt. Buller\"]]\n",
    "vic_filtered = vic_data[((visit_data[\"Year\"] == 2024) & (visit_data[\"Week\"].isin([13,14,15]))) | \n",
    "                        (visit_data[\"Year\"] == 2025)\n",
    "                        ].sort_values(\"Week\")\n",
    "vic_filtered[\"Total\"] = vic_filtered[[\"Mt. Baw Baw\", \"Mt. Stirling\", \"Mt. Hotham\", \"Falls Creek\", \"Mt. Buller\"]].sum(axis=1)\n",
    "vic_filtered[\"Proportion\"] = vic_filtered[\"Total\"] / vic_filtered[\"Total\"].sum()\n"
   ]
  },
  {
   "cell_type": "code",
   "execution_count": 74,
   "id": "0c9bee28",
   "metadata": {},
   "outputs": [
    {
     "data": {
      "text/plain": [
       "[0.018978017008737764,\n",
       " 0.029548913492723393,\n",
       " 0.037590137071560205,\n",
       " 0.05503770805070529,\n",
       " 0.07917353483193053,\n",
       " 0.12209409751092828,\n",
       " 0.1321787522063221,\n",
       " 0.08585814382059623,\n",
       " 0.094375884352253,\n",
       " 0.08997661176996874,\n",
       " 0.07836029544051075,\n",
       " 0.0678441011577417,\n",
       " 0.06912777947962404,\n",
       " 0.024113945900738603,\n",
       " 0.015742077905659367]"
      ]
     },
     "execution_count": 74,
     "metadata": {},
     "output_type": "execute_result"
    }
   ],
   "source": [
    "proportions = vic_filtered[\"Proportion\"].tolist()\n",
    "proportions"
   ]
  },
  {
   "cell_type": "code",
   "execution_count": 75,
   "id": "f3b0318b",
   "metadata": {},
   "outputs": [
    {
     "data": {
      "text/plain": [
       "{'Selwyn': [1445,\n",
       "  2249,\n",
       "  2861,\n",
       "  4188,\n",
       "  6025,\n",
       "  9291,\n",
       "  10058,\n",
       "  6533,\n",
       "  7181,\n",
       "  6847,\n",
       "  5963,\n",
       "  5163,\n",
       "  5260,\n",
       "  1835,\n",
       "  1198],\n",
       " 'Thredbo': [7862,\n",
       "  12240,\n",
       "  15571,\n",
       "  22798,\n",
       "  32796,\n",
       "  50574,\n",
       "  54751,\n",
       "  35564,\n",
       "  39093,\n",
       "  37270,\n",
       "  32459,\n",
       "  28103,\n",
       "  28634,\n",
       "  9989,\n",
       "  6521],\n",
       " 'Perisher': [10349,\n",
       "  16113,\n",
       "  20497,\n",
       "  30011,\n",
       "  43172,\n",
       "  66575,\n",
       "  72074,\n",
       "  46817,\n",
       "  51461,\n",
       "  49063,\n",
       "  42728,\n",
       "  36994,\n",
       "  37694,\n",
       "  13149,\n",
       "  8584],\n",
       " 'Charlotte Pass': [570,\n",
       "  887,\n",
       "  1129,\n",
       "  1652,\n",
       "  2376,\n",
       "  3665,\n",
       "  3967,\n",
       "  2577,\n",
       "  2833,\n",
       "  2701,\n",
       "  2352,\n",
       "  2037,\n",
       "  2075,\n",
       "  724,\n",
       "  473]}"
      ]
     },
     "execution_count": 75,
     "metadata": {},
     "output_type": "execute_result"
    }
   ],
   "source": [
    "sydney_weekly = {}\n",
    "for resort in sydney_resorts:\n",
    "    total = sydney_totals[resort]   # overall visitors in 2024 for this resort\n",
    "    # distribute across weeks using proportions\n",
    "    sydney_weekly[resort] = [math.ceil(total * p) for p in proportions]\n",
    "sydney_weekly\n",
    "    "
   ]
  },
  {
   "cell_type": "code",
   "execution_count": 81,
   "id": "26cd7de8",
   "metadata": {},
   "outputs": [],
   "source": [
    "sydney_weekly_df = pd.DataFrame(sydney_weekly)\n",
    "sydney_weekly_df.to_csv(\"sydney_resorts.csv\")"
   ]
  },
  {
   "cell_type": "code",
   "execution_count": null,
   "id": "151b701c",
   "metadata": {},
   "outputs": [],
   "source": []
  }
 ],
 "metadata": {
  "kernelspec": {
   "display_name": "Python 3",
   "language": "python",
   "name": "python3"
  },
  "language_info": {
   "codemirror_mode": {
    "name": "ipython",
    "version": 3
   },
   "file_extension": ".py",
   "mimetype": "text/x-python",
   "name": "python",
   "nbconvert_exporter": "python",
   "pygments_lexer": "ipython3",
   "version": "3.10.0"
  }
 },
 "nbformat": 4,
 "nbformat_minor": 5
}
