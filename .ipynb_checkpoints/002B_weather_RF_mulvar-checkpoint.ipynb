{
 "cells": [
  {
   "cell_type": "code",
   "execution_count": 1,
   "id": "8f27cb62-953d-4911-a190-a895f83dc300",
   "metadata": {
    "tags": []
   },
   "outputs": [],
   "source": [
    "import pandas as pd\n",
    "import numpy as np\n",
    "from sklearn.ensemble import RandomForestRegressor\n",
    "from sklearn.model_selection import RandomizedSearchCV\n",
    "from sklearn.multioutput import MultiOutputRegressor\n",
    "from scipy.stats import spearmanr\n",
    "from sklearn.metrics import mean_squared_error, mean_absolute_error, r2_score\n",
    "import matplotlib.pyplot as plt"
   ]
  },
  {
   "cell_type": "code",
   "execution_count": 2,
   "id": "9a73d70e-2bb8-4286-92cd-e92c0cd8ef12",
   "metadata": {
    "tags": []
   },
   "outputs": [],
   "source": [
    "df = pd.read_excel(\"2025 Allianz Datathon Dataset.xlsx\", sheet_name=\"Climate Data\")"
   ]
  },
  {
   "cell_type": "code",
   "execution_count": 3,
   "id": "f7db4c71-3925-4f9b-9758-107f26613df8",
   "metadata": {
    "tags": []
   },
   "outputs": [
    {
     "data": {
      "text/html": [
       "<div>\n",
       "<style scoped>\n",
       "    .dataframe tbody tr th:only-of-type {\n",
       "        vertical-align: middle;\n",
       "    }\n",
       "\n",
       "    .dataframe tbody tr th {\n",
       "        vertical-align: top;\n",
       "    }\n",
       "\n",
       "    .dataframe thead th {\n",
       "        text-align: right;\n",
       "    }\n",
       "</style>\n",
       "<table border=\"1\" class=\"dataframe\">\n",
       "  <thead>\n",
       "    <tr style=\"text-align: right;\">\n",
       "      <th></th>\n",
       "      <th>Bureau of Meteorology station number</th>\n",
       "      <th>Year</th>\n",
       "      <th>Month</th>\n",
       "      <th>Day</th>\n",
       "      <th>Maximum temperature (Degree C)</th>\n",
       "      <th>Minimum temperature (Degree C)</th>\n",
       "      <th>Rainfall amount (millimetres)</th>\n",
       "    </tr>\n",
       "  </thead>\n",
       "  <tbody>\n",
       "    <tr>\n",
       "      <th>1461</th>\n",
       "      <td>71075</td>\n",
       "      <td>2014</td>\n",
       "      <td>1</td>\n",
       "      <td>1</td>\n",
       "      <td>14.3</td>\n",
       "      <td>2.5</td>\n",
       "      <td>0.0</td>\n",
       "    </tr>\n",
       "    <tr>\n",
       "      <th>1462</th>\n",
       "      <td>71075</td>\n",
       "      <td>2014</td>\n",
       "      <td>1</td>\n",
       "      <td>2</td>\n",
       "      <td>18.1</td>\n",
       "      <td>8.8</td>\n",
       "      <td>0.8</td>\n",
       "    </tr>\n",
       "    <tr>\n",
       "      <th>1463</th>\n",
       "      <td>71075</td>\n",
       "      <td>2014</td>\n",
       "      <td>1</td>\n",
       "      <td>3</td>\n",
       "      <td>14.8</td>\n",
       "      <td>9.5</td>\n",
       "      <td>0.0</td>\n",
       "    </tr>\n",
       "    <tr>\n",
       "      <th>1464</th>\n",
       "      <td>71075</td>\n",
       "      <td>2014</td>\n",
       "      <td>1</td>\n",
       "      <td>4</td>\n",
       "      <td>11.6</td>\n",
       "      <td>4.2</td>\n",
       "      <td>0.2</td>\n",
       "    </tr>\n",
       "    <tr>\n",
       "      <th>1465</th>\n",
       "      <td>71075</td>\n",
       "      <td>2014</td>\n",
       "      <td>1</td>\n",
       "      <td>5</td>\n",
       "      <td>14.5</td>\n",
       "      <td>5.0</td>\n",
       "      <td>0.0</td>\n",
       "    </tr>\n",
       "  </tbody>\n",
       "</table>\n",
       "</div>"
      ],
      "text/plain": [
       "      Bureau of Meteorology station number  Year  Month  Day  \\\n",
       "1461                                 71075  2014      1    1   \n",
       "1462                                 71075  2014      1    2   \n",
       "1463                                 71075  2014      1    3   \n",
       "1464                                 71075  2014      1    4   \n",
       "1465                                 71075  2014      1    5   \n",
       "\n",
       "      Maximum temperature (Degree C)  Minimum temperature (Degree C)  \\\n",
       "1461                            14.3                             2.5   \n",
       "1462                            18.1                             8.8   \n",
       "1463                            14.8                             9.5   \n",
       "1464                            11.6                             4.2   \n",
       "1465                            14.5                             5.0   \n",
       "\n",
       "      Rainfall amount (millimetres)  \n",
       "1461                            0.0  \n",
       "1462                            0.8  \n",
       "1463                            0.0  \n",
       "1464                            0.2  \n",
       "1465                            0.0  "
      ]
     },
     "execution_count": 3,
     "metadata": {},
     "output_type": "execute_result"
    }
   ],
   "source": [
    "df_2014 = df[df[\"Year\"] >= 2014].copy()\n",
    "df_2014.head()"
   ]
  },
  {
   "cell_type": "code",
   "execution_count": 4,
   "id": "a2317fc5-f182-49aa-b06c-86dbd1c7e1eb",
   "metadata": {
    "tags": []
   },
   "outputs": [
    {
     "data": {
      "text/html": [
       "<div>\n",
       "<style scoped>\n",
       "    .dataframe tbody tr th:only-of-type {\n",
       "        vertical-align: middle;\n",
       "    }\n",
       "\n",
       "    .dataframe tbody tr th {\n",
       "        vertical-align: top;\n",
       "    }\n",
       "\n",
       "    .dataframe thead th {\n",
       "        text-align: right;\n",
       "    }\n",
       "</style>\n",
       "<table border=\"1\" class=\"dataframe\">\n",
       "  <thead>\n",
       "    <tr style=\"text-align: right;\">\n",
       "      <th></th>\n",
       "      <th>Bureau of Meteorology station number</th>\n",
       "      <th>Year</th>\n",
       "      <th>Month</th>\n",
       "      <th>Day</th>\n",
       "      <th>Maximum temperature (Degree C)</th>\n",
       "      <th>Minimum temperature (Degree C)</th>\n",
       "      <th>Rainfall amount (millimetres)</th>\n",
       "      <th>Resort</th>\n",
       "    </tr>\n",
       "  </thead>\n",
       "  <tbody>\n",
       "    <tr>\n",
       "      <th>1461</th>\n",
       "      <td>71075</td>\n",
       "      <td>2014</td>\n",
       "      <td>1</td>\n",
       "      <td>1</td>\n",
       "      <td>14.3</td>\n",
       "      <td>2.5</td>\n",
       "      <td>0.0</td>\n",
       "      <td>Perisher AWS</td>\n",
       "    </tr>\n",
       "    <tr>\n",
       "      <th>1462</th>\n",
       "      <td>71075</td>\n",
       "      <td>2014</td>\n",
       "      <td>1</td>\n",
       "      <td>2</td>\n",
       "      <td>18.1</td>\n",
       "      <td>8.8</td>\n",
       "      <td>0.8</td>\n",
       "      <td>Perisher AWS</td>\n",
       "    </tr>\n",
       "    <tr>\n",
       "      <th>1463</th>\n",
       "      <td>71075</td>\n",
       "      <td>2014</td>\n",
       "      <td>1</td>\n",
       "      <td>3</td>\n",
       "      <td>14.8</td>\n",
       "      <td>9.5</td>\n",
       "      <td>0.0</td>\n",
       "      <td>Perisher AWS</td>\n",
       "    </tr>\n",
       "    <tr>\n",
       "      <th>1464</th>\n",
       "      <td>71075</td>\n",
       "      <td>2014</td>\n",
       "      <td>1</td>\n",
       "      <td>4</td>\n",
       "      <td>11.6</td>\n",
       "      <td>4.2</td>\n",
       "      <td>0.2</td>\n",
       "      <td>Perisher AWS</td>\n",
       "    </tr>\n",
       "    <tr>\n",
       "      <th>1465</th>\n",
       "      <td>71075</td>\n",
       "      <td>2014</td>\n",
       "      <td>1</td>\n",
       "      <td>5</td>\n",
       "      <td>14.5</td>\n",
       "      <td>5.0</td>\n",
       "      <td>0.0</td>\n",
       "      <td>Perisher AWS</td>\n",
       "    </tr>\n",
       "  </tbody>\n",
       "</table>\n",
       "</div>"
      ],
      "text/plain": [
       "      Bureau of Meteorology station number  Year  Month  Day  \\\n",
       "1461                                 71075  2014      1    1   \n",
       "1462                                 71075  2014      1    2   \n",
       "1463                                 71075  2014      1    3   \n",
       "1464                                 71075  2014      1    4   \n",
       "1465                                 71075  2014      1    5   \n",
       "\n",
       "      Maximum temperature (Degree C)  Minimum temperature (Degree C)  \\\n",
       "1461                            14.3                             2.5   \n",
       "1462                            18.1                             8.8   \n",
       "1463                            14.8                             9.5   \n",
       "1464                            11.6                             4.2   \n",
       "1465                            14.5                             5.0   \n",
       "\n",
       "      Rainfall amount (millimetres)        Resort  \n",
       "1461                            0.0  Perisher AWS  \n",
       "1462                            0.8  Perisher AWS  \n",
       "1463                            0.0  Perisher AWS  \n",
       "1464                            0.2  Perisher AWS  \n",
       "1465                            0.0  Perisher AWS  "
      ]
     },
     "execution_count": 4,
     "metadata": {},
     "output_type": "execute_result"
    }
   ],
   "source": [
    "station_to_resort = {\n",
    "    71032: \"Thredbo AWS\",\n",
    "    71075: \"Perisher AWS\",\n",
    "    72161: \"Cabramurra SMHEA AWS\",\n",
    "    83024: \"Mount Buller\",\n",
    "    83084: \"Falls Creek\",\n",
    "    83085: \"Mount Hotham\",\n",
    "    85291: \"Mount Baw Baw\"\n",
    "}\n",
    "# Add new column\n",
    "df_2014[\"Resort\"] = df_2014[\"Bureau of Meteorology station number\"].map(station_to_resort)\n",
    "df_2014.head()"
   ]
  },
  {
   "cell_type": "code",
   "execution_count": 5,
   "id": "b67be3a1-8201-40f5-9de9-5b19b822ffc3",
   "metadata": {
    "tags": []
   },
   "outputs": [],
   "source": [
    "# Build datetime column\n",
    "df_2014[\"Date\"] = pd.to_datetime(df_2014[[\"Year\", \"Month\", \"Day\"]])"
   ]
  },
  {
   "cell_type": "markdown",
   "id": "d45ecef6-1dd5-4898-885e-a895955c0a14",
   "metadata": {},
   "source": [
    "# Preprocess"
   ]
  },
  {
   "cell_type": "code",
   "execution_count": 6,
   "id": "3d364f97-143e-46b7-aa03-35a4a90d8e9a",
   "metadata": {
    "tags": []
   },
   "outputs": [],
   "source": [
    "df_weekly = (\n",
    "    df_2014.groupby([\"Resort\", pd.Grouper(key=\"Date\", freq=\"W-SUN\")])\n",
    "    .agg({\n",
    "        \"Maximum temperature (Degree C)\": \"mean\",\n",
    "        \"Minimum temperature (Degree C)\": \"mean\",\n",
    "        \"Rainfall amount (millimetres)\": \"sum\"\n",
    "    })\n",
    "    .reset_index()\n",
    "    .rename(columns={\n",
    "        \"Maximum temperature (Degree C)\": \"TempMax\",\n",
    "        \"Minimum temperature (Degree C)\": \"TempMin\",\n",
    "        \"Rainfall amount (millimetres)\": \"Rainfall\"\n",
    "    })\n",
    ")"
   ]
  },
  {
   "cell_type": "code",
   "execution_count": 7,
   "id": "4ab2ca7b-14b1-4cfb-8193-567f59511600",
   "metadata": {
    "tags": []
   },
   "outputs": [],
   "source": [
    "# Create lag features per resort\n",
    "for resort in df_weekly[\"Resort\"].unique():\n",
    "    mask = df_weekly[\"Resort\"] == resort\n",
    "    for col in [\"TempMax\", \"TempMin\", \"Rainfall\"]:\n",
    "        df_weekly.loc[mask, f\"{col}_lag1\"] = df_weekly.loc[mask, col].shift(1)\n",
    "        df_weekly.loc[mask, f\"{col}_lag2\"] = df_weekly.loc[mask, col].shift(2)\n",
    "\n",
    "# Drop rows with missing lags\n",
    "df_weekly = df_weekly.dropna()"
   ]
  },
  {
   "cell_type": "markdown",
   "id": "3a70f2e1-6709-4c38-a11b-98be9f366e82",
   "metadata": {},
   "source": [
    "# Modelling Temp MAX Min "
   ]
  },
  {
   "cell_type": "code",
   "execution_count": 8,
   "id": "811d4390-540b-41ec-9ca4-538dfc4ad337",
   "metadata": {
    "tags": []
   },
   "outputs": [],
   "source": [
    "train = df_weekly[df_weekly[\"Date\"] < \"2023-01-01\"]\n",
    "test  = df_weekly[df_weekly[\"Date\"] >= \"2023-01-01\"]\n",
    "\n",
    "features = [\"TempMax_lag1\",\"TempMax_lag2\",\n",
    "            \"TempMin_lag1\",\"TempMin_lag2\",\n",
    "            \"Rainfall_lag1\",\"Rainfall_lag2\"]\n",
    "\n",
    "targets = [\"TempMax\",\"TempMin\",\"Rainfall\"]\n",
    "\n",
    "X_train, y_train = train[features], train[targets]\n",
    "X_test, y_test   = test[features], test[targets]"
   ]
  },
  {
   "cell_type": "code",
   "execution_count": 9,
   "id": "c5461e78-8414-48cb-a0c0-1d9b76fdfbd5",
   "metadata": {
    "tags": []
   },
   "outputs": [
    {
     "data": {
      "text/html": [
       "<style>#sk-container-id-1 {color: black;}#sk-container-id-1 pre{padding: 0;}#sk-container-id-1 div.sk-toggleable {background-color: white;}#sk-container-id-1 label.sk-toggleable__label {cursor: pointer;display: block;width: 100%;margin-bottom: 0;padding: 0.3em;box-sizing: border-box;text-align: center;}#sk-container-id-1 label.sk-toggleable__label-arrow:before {content: \"▸\";float: left;margin-right: 0.25em;color: #696969;}#sk-container-id-1 label.sk-toggleable__label-arrow:hover:before {color: black;}#sk-container-id-1 div.sk-estimator:hover label.sk-toggleable__label-arrow:before {color: black;}#sk-container-id-1 div.sk-toggleable__content {max-height: 0;max-width: 0;overflow: hidden;text-align: left;background-color: #f0f8ff;}#sk-container-id-1 div.sk-toggleable__content pre {margin: 0.2em;color: black;border-radius: 0.25em;background-color: #f0f8ff;}#sk-container-id-1 input.sk-toggleable__control:checked~div.sk-toggleable__content {max-height: 200px;max-width: 100%;overflow: auto;}#sk-container-id-1 input.sk-toggleable__control:checked~label.sk-toggleable__label-arrow:before {content: \"▾\";}#sk-container-id-1 div.sk-estimator input.sk-toggleable__control:checked~label.sk-toggleable__label {background-color: #d4ebff;}#sk-container-id-1 div.sk-label input.sk-toggleable__control:checked~label.sk-toggleable__label {background-color: #d4ebff;}#sk-container-id-1 input.sk-hidden--visually {border: 0;clip: rect(1px 1px 1px 1px);clip: rect(1px, 1px, 1px, 1px);height: 1px;margin: -1px;overflow: hidden;padding: 0;position: absolute;width: 1px;}#sk-container-id-1 div.sk-estimator {font-family: monospace;background-color: #f0f8ff;border: 1px dotted black;border-radius: 0.25em;box-sizing: border-box;margin-bottom: 0.5em;}#sk-container-id-1 div.sk-estimator:hover {background-color: #d4ebff;}#sk-container-id-1 div.sk-parallel-item::after {content: \"\";width: 100%;border-bottom: 1px solid gray;flex-grow: 1;}#sk-container-id-1 div.sk-label:hover label.sk-toggleable__label {background-color: #d4ebff;}#sk-container-id-1 div.sk-serial::before {content: \"\";position: absolute;border-left: 1px solid gray;box-sizing: border-box;top: 0;bottom: 0;left: 50%;z-index: 0;}#sk-container-id-1 div.sk-serial {display: flex;flex-direction: column;align-items: center;background-color: white;padding-right: 0.2em;padding-left: 0.2em;position: relative;}#sk-container-id-1 div.sk-item {position: relative;z-index: 1;}#sk-container-id-1 div.sk-parallel {display: flex;align-items: stretch;justify-content: center;background-color: white;position: relative;}#sk-container-id-1 div.sk-item::before, #sk-container-id-1 div.sk-parallel-item::before {content: \"\";position: absolute;border-left: 1px solid gray;box-sizing: border-box;top: 0;bottom: 0;left: 50%;z-index: -1;}#sk-container-id-1 div.sk-parallel-item {display: flex;flex-direction: column;z-index: 1;position: relative;background-color: white;}#sk-container-id-1 div.sk-parallel-item:first-child::after {align-self: flex-end;width: 50%;}#sk-container-id-1 div.sk-parallel-item:last-child::after {align-self: flex-start;width: 50%;}#sk-container-id-1 div.sk-parallel-item:only-child::after {width: 0;}#sk-container-id-1 div.sk-dashed-wrapped {border: 1px dashed gray;margin: 0 0.4em 0.5em 0.4em;box-sizing: border-box;padding-bottom: 0.4em;background-color: white;}#sk-container-id-1 div.sk-label label {font-family: monospace;font-weight: bold;display: inline-block;line-height: 1.2em;}#sk-container-id-1 div.sk-label-container {text-align: center;}#sk-container-id-1 div.sk-container {/* jupyter's `normalize.less` sets `[hidden] { display: none; }` but bootstrap.min.css set `[hidden] { display: none !important; }` so we also need the `!important` here to be able to override the default hidden behavior on the sphinx rendered scikit-learn.org. See: https://github.com/scikit-learn/scikit-learn/issues/21755 */display: inline-block !important;position: relative;}#sk-container-id-1 div.sk-text-repr-fallback {display: none;}</style><div id=\"sk-container-id-1\" class=\"sk-top-container\"><div class=\"sk-text-repr-fallback\"><pre>MultiOutputRegressor(estimator=RandomForestRegressor(n_estimators=300,\n",
       "                                                     n_jobs=-1,\n",
       "                                                     random_state=42))</pre><b>In a Jupyter environment, please rerun this cell to show the HTML representation or trust the notebook. <br />On GitHub, the HTML representation is unable to render, please try loading this page with nbviewer.org.</b></div><div class=\"sk-container\" hidden><div class=\"sk-item sk-dashed-wrapped\"><div class=\"sk-label-container\"><div class=\"sk-label sk-toggleable\"><input class=\"sk-toggleable__control sk-hidden--visually\" id=\"sk-estimator-id-1\" type=\"checkbox\" ><label for=\"sk-estimator-id-1\" class=\"sk-toggleable__label sk-toggleable__label-arrow\">MultiOutputRegressor</label><div class=\"sk-toggleable__content\"><pre>MultiOutputRegressor(estimator=RandomForestRegressor(n_estimators=300,\n",
       "                                                     n_jobs=-1,\n",
       "                                                     random_state=42))</pre></div></div></div><div class=\"sk-parallel\"><div class=\"sk-parallel-item\"><div class=\"sk-item\"><div class=\"sk-label-container\"><div class=\"sk-label sk-toggleable\"><input class=\"sk-toggleable__control sk-hidden--visually\" id=\"sk-estimator-id-2\" type=\"checkbox\" ><label for=\"sk-estimator-id-2\" class=\"sk-toggleable__label sk-toggleable__label-arrow\">estimator: RandomForestRegressor</label><div class=\"sk-toggleable__content\"><pre>RandomForestRegressor(n_estimators=300, n_jobs=-1, random_state=42)</pre></div></div></div><div class=\"sk-serial\"><div class=\"sk-item\"><div class=\"sk-estimator sk-toggleable\"><input class=\"sk-toggleable__control sk-hidden--visually\" id=\"sk-estimator-id-3\" type=\"checkbox\" ><label for=\"sk-estimator-id-3\" class=\"sk-toggleable__label sk-toggleable__label-arrow\">RandomForestRegressor</label><div class=\"sk-toggleable__content\"><pre>RandomForestRegressor(n_estimators=300, n_jobs=-1, random_state=42)</pre></div></div></div></div></div></div></div></div></div></div>"
      ],
      "text/plain": [
       "MultiOutputRegressor(estimator=RandomForestRegressor(n_estimators=300,\n",
       "                                                     n_jobs=-1,\n",
       "                                                     random_state=42))"
      ]
     },
     "execution_count": 9,
     "metadata": {},
     "output_type": "execute_result"
    }
   ],
   "source": [
    "rf = MultiOutputRegressor(\n",
    "    RandomForestRegressor(n_estimators=300, random_state=42, n_jobs=-1)\n",
    ")\n",
    "rf.fit(X_train, y_train)"
   ]
  },
  {
   "cell_type": "markdown",
   "id": "3d6b9f21-213c-4121-8992-ec18522bf0db",
   "metadata": {},
   "source": [
    "## Evaluation"
   ]
  },
  {
   "cell_type": "code",
   "execution_count": 10,
   "id": "8fae91aa-fcde-4a05-abf6-9a1b192dcdd2",
   "metadata": {
    "tags": []
   },
   "outputs": [
    {
     "name": "stdout",
     "output_type": "stream",
     "text": [
      "\n",
      "=== Forecast Performance (per variable) ===\n",
      "TempMax: RMSE=2.897, MAE=2.278, SMAPE=35.47%, R²=0.800, Spearman=0.886\n",
      "TempMin: RMSE=2.494, MAE=1.968, SMAPE=70.24%, R²=0.730, Spearman=0.857\n",
      "Rainfall: RMSE=34.506, MAE=25.856, SMAPE=97.54%, R²=-0.105, Spearman=0.141\n"
     ]
    }
   ],
   "source": [
    "y_pred = rf.predict(X_test)\n",
    "\n",
    "# Evaluate per variable\n",
    "def smape(y_true, y_pred):\n",
    "    y_true, y_pred = np.array(y_true), np.array(y_pred)\n",
    "    return 100 * np.mean(\n",
    "        2 * np.abs(y_pred - y_true) / (np.abs(y_true) + np.abs(y_pred) + 1e-8)\n",
    "    )\n",
    "\n",
    "print(\"\\n=== Forecast Performance (per variable) ===\")\n",
    "for i, col in enumerate(targets):\n",
    "    actual = y_test[col].values\n",
    "    pred   = y_pred[:,i]\n",
    "\n",
    "    rmse = mean_squared_error(actual, pred, squared=False)\n",
    "    mae = mean_absolute_error(actual, pred)\n",
    "    r2 = r2_score(actual, pred)\n",
    "    smape_score = smape(actual, pred)\n",
    "    spearman_corr = spearmanr(actual, pred).correlation\n",
    "\n",
    "    print(f\"{col}: RMSE={rmse:.3f}, MAE={mae:.3f}, \"\n",
    "          f\"SMAPE={smape_score:.2f}%, R²={r2:.3f}, Spearman={spearman_corr:.3f}\")"
   ]
  },
  {
   "cell_type": "markdown",
   "id": "f9857392-ad59-45dd-956d-a9bcfbad5bbc",
   "metadata": {},
   "source": [
    "the result model form maximum and minimum temperature is still acceptabale where model can explain 73-80% of variance, relative error is moderate and forecast error is within 2-3 degrees celcius on average. On the otherhand, this model can't predict rainfall that well, we need another model to predict rainfall."
   ]
  },
  {
   "cell_type": "markdown",
   "id": "fea002c2-028f-4b62-af1d-9a80b87ea400",
   "metadata": {},
   "source": [
    "## Test and Actual Comparison"
   ]
  },
  {
   "cell_type": "code",
   "execution_count": 11,
   "id": "fb8d1c5c-7d23-4262-9d9c-695c47aca194",
   "metadata": {
    "tags": []
   },
   "outputs": [
    {
     "ename": "NameError",
     "evalue": "name 'pred_df' is not defined",
     "output_type": "error",
     "traceback": [
      "\u001b[0;31m---------------------------------------------------------------------------\u001b[0m",
      "\u001b[0;31mNameError\u001b[0m                                 Traceback (most recent call last)",
      "Cell \u001b[0;32mIn[11], line 1\u001b[0m\n\u001b[0;32m----> 1\u001b[0m \u001b[38;5;28;01mfor\u001b[39;00m resort \u001b[38;5;129;01min\u001b[39;00m pred_df[\u001b[38;5;124m\"\u001b[39m\u001b[38;5;124mResort\u001b[39m\u001b[38;5;124m\"\u001b[39m]\u001b[38;5;241m.\u001b[39munique():\n\u001b[1;32m      2\u001b[0m     subset_actual \u001b[38;5;241m=\u001b[39m test[test[\u001b[38;5;124m\"\u001b[39m\u001b[38;5;124mResort\u001b[39m\u001b[38;5;124m\"\u001b[39m] \u001b[38;5;241m==\u001b[39m resort]\u001b[38;5;241m.\u001b[39mset_index(\u001b[38;5;124m\"\u001b[39m\u001b[38;5;124mDate\u001b[39m\u001b[38;5;124m\"\u001b[39m)\n\u001b[1;32m      3\u001b[0m     subset_pred   \u001b[38;5;241m=\u001b[39m pred_df[pred_df[\u001b[38;5;124m\"\u001b[39m\u001b[38;5;124mResort\u001b[39m\u001b[38;5;124m\"\u001b[39m] \u001b[38;5;241m==\u001b[39m resort]\u001b[38;5;241m.\u001b[39mset_index(\u001b[38;5;124m\"\u001b[39m\u001b[38;5;124mDate\u001b[39m\u001b[38;5;124m\"\u001b[39m)\n",
      "\u001b[0;31mNameError\u001b[0m: name 'pred_df' is not defined"
     ]
    }
   ],
   "source": [
    "for resort in pred_df[\"Resort\"].unique():\n",
    "    subset_actual = test[test[\"Resort\"] == resort].set_index(\"Date\")\n",
    "    subset_pred   = pred_df[pred_df[\"Resort\"] == resort].set_index(\"Date\")\n",
    "    \n",
    "    for var, pred_col in zip([\"TempMax\",\"TempMin\",\"Rainfall\"],\n",
    "                             [\"TempMax_pred\",\"TempMin_pred\",\"Rainfall_pred\"]):\n",
    "        plt.figure(figsize=(10,4))\n",
    "        plt.plot(subset_actual.index, subset_actual[var], label=\"Actual\", color=\"black\")\n",
    "        plt.plot(subset_pred.index, subset_pred[pred_col], label=\"Predicted\", color=\"red\", linestyle=\"--\")\n",
    "        plt.title(f\"{resort} – {var} Forecast vs Actual (Test Set)\")\n",
    "        plt.xlabel(\"Date\")\n",
    "        plt.ylabel(var)\n",
    "        plt.legend()\n",
    "        plt.show()"
   ]
  },
  {
   "cell_type": "markdown",
   "id": "2db934a7-2459-4d1d-920d-4eb5b13f532d",
   "metadata": {},
   "source": [
    "## Hyper Paramtunning"
   ]
  },
  {
   "cell_type": "code",
   "execution_count": null,
   "id": "6ee19114-2c6b-4920-a4c0-da11f4e7443e",
   "metadata": {
    "tags": []
   },
   "outputs": [],
   "source": [
    "# Hyperparameter grid\n",
    "param_grid = {\n",
    "    'n_estimators': [200, 300, 500, 800],\n",
    "    'max_depth': [None, 5, 10, 15, 20],\n",
    "    'min_samples_split': [2, 5, 10],\n",
    "    'min_samples_leaf': [1, 2, 5],\n",
    "    'max_features': ['sqrt', 'log2', None]\n",
    "}\n",
    "\n",
    "rf = RandomForestRegressor(random_state=42, n_jobs=-1)\n",
    "\n",
    "search = RandomizedSearchCV(\n",
    "    rf, param_distributions=param_grid,\n",
    "    n_iter=30, cv=3, scoring=\"r2\", random_state=42, n_jobs=-1\n",
    ")\n",
    "\n",
    "search.fit(X_train, y_train[\"TempMax\"])  # Example: tune for TempMax\n",
    "print(\"Best Params:\", search.best_params_)\n",
    "print(\"Best CV R²:\", search.best_score_)"
   ]
  },
  {
   "cell_type": "code",
   "execution_count": null,
   "id": "294d940c-fbac-4d56-bf4a-1ed005cbc31e",
   "metadata": {
    "tags": []
   },
   "outputs": [],
   "source": [
    "# Hyperparameter grid\n",
    "param_grid = {\n",
    "    'n_estimators': [200, 300, 500, 800],\n",
    "    'max_depth': [None, 5, 10, 15, 20],\n",
    "    'min_samples_split': [2, 5, 10],\n",
    "    'min_samples_leaf': [1, 2, 5],\n",
    "    'max_features': ['sqrt', 'log2', None]\n",
    "}\n",
    "\n",
    "rf = RandomForestRegressor(random_state=42, n_jobs=-1)\n",
    "\n",
    "search = RandomizedSearchCV(\n",
    "    rf, param_distributions=param_grid,\n",
    "    n_iter=30, cv=3, scoring=\"r2\", random_state=42, n_jobs=-1\n",
    ")\n",
    "\n",
    "search.fit(X_train, y_train[\"TempMin\"])  # Example: tune for TempMax\n",
    "print(\"Best Params:\", search.best_params_)\n",
    "print(\"Best CV R²:\", search.best_score_)"
   ]
  },
  {
   "cell_type": "markdown",
   "id": "381f07c0-1bf8-4833-922f-def00cf987b3",
   "metadata": {},
   "source": [
    "We tested hyperparameter tuning via RandomizedSearchCV. For TempMax, tuning confirmed the model was near-optimal (R² ≈ 0.80). For TempMin, tuning actually reduced accuracy, suggesting the default Random Forest captured non-linearities better."
   ]
  },
  {
   "cell_type": "code",
   "execution_count": null,
   "id": "44fe6cf7-69c6-42be-8312-28768758deac",
   "metadata": {
    "tags": []
   },
   "outputs": [],
   "source": [
    "# Build dataframe with actual Date & Resort\n",
    "pred_df = test[[\"Date\",\"Resort\"]].copy()\n",
    "\n",
    "# Keep only TempMax & TempMin predictions\n",
    "pred_df[[\"TempMax_pred\",\"TempMin_pred\"]] = y_pred[:, :2]\n",
    "pred_df.to_csv(\"rf_tempmax_tempmin_predictions.csv\", index=False)\n",
    "\n",
    "print(\"✅ Saved RF TempMax & TempMin predictions to rf_tempmax_tempmin_predictions.csv\")\n",
    "print(pred_df.head())"
   ]
  },
  {
   "cell_type": "markdown",
   "id": "7cd45024-db8a-47a4-a2dd-3d9c79a25b55",
   "metadata": {
    "tags": []
   },
   "source": [
    "# Modelling Rainfall"
   ]
  },
  {
   "cell_type": "code",
   "execution_count": null,
   "id": "f681f683-ce01-4f63-bbd5-9a0f557668f0",
   "metadata": {
    "tags": []
   },
   "outputs": [],
   "source": [
    "import lightgbm as lgb\n",
    "from lightgbm import early_stopping, log_evaluation"
   ]
  },
  {
   "cell_type": "code",
   "execution_count": null,
   "id": "b2434211-2e23-4beb-9c69-0a3cbdfaac70",
   "metadata": {
    "tags": []
   },
   "outputs": [],
   "source": [
    "df_weekly[\"Week\"] = df_weekly[\"Date\"].dt.isocalendar().week.astype(int)\n",
    "df_weekly[\"sin_week\"] = np.sin(2*np.pi*df_weekly[\"Week\"]/52)\n",
    "df_weekly[\"cos_week\"] = np.cos(2*np.pi*df_weekly[\"Week\"]/52)"
   ]
  },
  {
   "cell_type": "code",
   "execution_count": null,
   "id": "0eaaf5c6-a773-42d1-8fa1-8ce482fca987",
   "metadata": {
    "tags": []
   },
   "outputs": [],
   "source": [
    "for resort in df_weekly[\"Resort\"].unique():\n",
    "    mask = df_weekly[\"Resort\"] == resort\n",
    "    df_weekly.loc[mask, \"Rainfall_lag1\"] = df_weekly.loc[mask, \"Rainfall\"].shift(1)\n",
    "    df_weekly.loc[mask, \"Rainfall_lag2\"] = df_weekly.loc[mask, \"Rainfall\"].shift(2)\n",
    "\n",
    "df_weekly = df_weekly.dropna()"
   ]
  },
  {
   "cell_type": "code",
   "execution_count": null,
   "id": "ac3a7cf6-9cf3-4cf6-acd1-8b04f7d6ae95",
   "metadata": {
    "tags": []
   },
   "outputs": [],
   "source": [
    "train = df_weekly[df_weekly[\"Date\"] < \"2023-01-01\"]\n",
    "test  = df_weekly[df_weekly[\"Date\"] >= \"2023-01-01\"]\n",
    "\n",
    "features_rain = [\"Rainfall_lag1\",\"Rainfall_lag2\",\"TempMax\",\"TempMin\",\"sin_week\",\"cos_week\"]\n",
    "target_rain = \"Rainfall\""
   ]
  },
  {
   "cell_type": "code",
   "execution_count": null,
   "id": "3f0b41c5-3a90-4095-8c1a-e58ba475b9df",
   "metadata": {
    "tags": []
   },
   "outputs": [],
   "source": [
    "X_train, y_train = train[features_rain], train[target_rain]\n",
    "X_test, y_test   = test[features_rain], test[target_rain]\n",
    "\n",
    "y_train_log = np.log1p(y_train)\n",
    "y_test_log = np.log1p(y_test)"
   ]
  },
  {
   "cell_type": "code",
   "execution_count": null,
   "id": "f99e042a-c421-46c8-b90e-db97c4b3e42c",
   "metadata": {
    "tags": []
   },
   "outputs": [],
   "source": [
    "lgb_train = lgb.Dataset(X_train, y_train_log)\n",
    "lgb_test = lgb.Dataset(X_test, y_test_log, reference=lgb_train)"
   ]
  },
  {
   "cell_type": "code",
   "execution_count": null,
   "id": "9bd09dc0-e4e1-4761-85d8-acfdbb2a6963",
   "metadata": {
    "tags": []
   },
   "outputs": [],
   "source": [
    "model = lgb.LGBMRegressor(\n",
    "    n_estimators=1000,\n",
    "    learning_rate=0.05,\n",
    "    num_leaves=31,\n",
    "    subsample=0.8,\n",
    "    colsample_bytree=0.8,\n",
    "    objective=\"regression\",  \n",
    "    random_state=102\n",
    ")\n",
    "\n",
    "model.fit(\n",
    "    X_train, y_train_log,\n",
    "    eval_set=[(X_test, y_test_log)],\n",
    "    eval_metric=\"rmse\",\n",
    "    callbacks=[\n",
    "        early_stopping(stopping_rounds=50),\n",
    "        log_evaluation(period=100)\n",
    "    ]\n",
    ")"
   ]
  },
  {
   "cell_type": "code",
   "execution_count": null,
   "id": "0b29da9f-8851-4400-88fb-afe15b888bd1",
   "metadata": {
    "tags": []
   },
   "outputs": [],
   "source": []
  },
  {
   "cell_type": "code",
   "execution_count": null,
   "id": "c547aa78-6ba2-4848-bd33-123731db4950",
   "metadata": {},
   "outputs": [],
   "source": [
    "pred_rainfall = test[[\"Date\",\"Resort\"]].copy()\n",
    "pred_rainfall[\"Rainfall_pred_LGBM\"] = y_pred"
   ]
  },
  {
   "cell_type": "code",
   "execution_count": null,
   "id": "5647a57b-1c61-488a-a178-2ef3ec36934b",
   "metadata": {},
   "outputs": [],
   "source": [
    "# Function to convert rainfall (mm) into snowfall (cm)\n",
    "def rainfall_to_snow(row):\n",
    "    t = row[\"Mean_Temp\"]\n",
    "    rain_mm = row[\"Rainfall amount (millimetres)\"]\n",
    "    \n",
    "    if pd.isna(rain_mm):  # handle missing values\n",
    "        return 0\n",
    "    \n",
    "    if t <= 0:\n",
    "        slr = 10   # normal snow (10:1)\n",
    "    elif 0 < t < 2:\n",
    "        slr = 5    # wet, dense snow (5:1)\n",
    "    else:\n",
    "        return 0   # too warm, all rain (just water) \n",
    "    \n",
    "    # Convert mm water to cm snow using ratio\n",
    "    return rain_mm * slr / 10\n",
    "\n",
    "# Apply conversion to dataset\n",
    "df_2014[\"Snowfall_cm\"] = df_2014.apply(rainfall_to_snow, axis=1)"
   ]
  },
  {
   "cell_type": "code",
   "execution_count": null,
   "id": "82a5e5e7-bb67-4601-96a2-9ef2ffcb83f5",
   "metadata": {},
   "outputs": [],
   "source": [
    "# Temperature factor based on max temp (logistic decay)\n",
    "df_2014[\"Snow_Retention\"] = 1 / (1 + np.exp((df_2014[\"Maximum temperature (Degree C)\"] - 0) / 2))\n",
    "df_2014[\"Snow_Consistency\"] = 1 / (1 + np.exp((df_2014[\"Minimum temperature (Degree C)\"] - 0) / 2))\n",
    "df_2014.tail()"
   ]
  },
  {
   "cell_type": "code",
   "execution_count": null,
   "id": "0b700c69-f894-4433-b966-f5f25dc90203",
   "metadata": {},
   "outputs": [],
   "source": [
    "# Convert Date column to datetime if not already\n",
    "df_2014[\"Date\"] = pd.to_datetime(df_2014[\"Date\"])\n",
    "\n",
    "# Aggregate daily → weekly per resort\n",
    "df_weekly = (\n",
    "    df_2014.groupby([\"Resort\", pd.Grouper(key=\"Date\", freq=\"W-SUN\")])\n",
    "    .agg({\n",
    "        \"Maximum temperature (Degree C)\": \"mean\",   # weekly avg temp\n",
    "        \"Minimum temperature (Degree C)\": \"mean\",   # weekly avg temp\n",
    "        \"Rainfall amount (millimetres)\": \"sum\",     # weekly total rainfall\n",
    "        \"Snowfall_cm\": \"sum\",                        # weekly snow total\n",
    "        \"Snow_Retention\": \"mean\",\n",
    "        \"Snow_Consistency\": \"mean\"\n",
    "        \n",
    "    })\n",
    "    .reset_index()\n",
    "    .rename(columns={\n",
    "        \"Maximum temperature (Degree C)\": \"TempMax\",\n",
    "        \"Minimum temperature (Degree C)\": \"TempMin\",\n",
    "        \"Rainfall amount (millimetres)\": \"Rainfall\"\n",
    "    })\n",
    ")\n",
    "\n",
    "# Inspect result\n",
    "print(df_weekly.head())"
   ]
  },
  {
   "cell_type": "code",
   "execution_count": null,
   "id": "5cc45d64-1b18-49c7-8593-47aa469cd7e2",
   "metadata": {},
   "outputs": [],
   "source": []
  }
 ],
 "metadata": {
  "kernelspec": {
   "display_name": "Python 3 (ipykernel)",
   "language": "python",
   "name": "python3"
  },
  "language_info": {
   "codemirror_mode": {
    "name": "ipython",
    "version": 3
   },
   "file_extension": ".py",
   "mimetype": "text/x-python",
   "name": "python",
   "nbconvert_exporter": "python",
   "pygments_lexer": "ipython3",
   "version": "3.11.5"
  }
 },
 "nbformat": 4,
 "nbformat_minor": 5
}
